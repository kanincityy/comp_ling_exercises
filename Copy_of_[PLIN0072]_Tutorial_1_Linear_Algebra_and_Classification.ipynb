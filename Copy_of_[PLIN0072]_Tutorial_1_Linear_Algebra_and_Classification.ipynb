{
  "cells": [
    {
      "cell_type": "markdown",
      "metadata": {
        "id": "view-in-github",
        "colab_type": "text"
      },
      "source": [
        "<a href=\"https://colab.research.google.com/github/kanincityy/comp_ling_exercises/blob/main/Copy_of_%5BPLIN0072%5D_Tutorial_1_Linear_Algebra_and_Classification.ipynb\" target=\"_parent\"><img src=\"https://colab.research.google.com/assets/colab-badge.svg\" alt=\"Open In Colab\"/></a>"
      ]
    },
    {
      "cell_type": "code",
      "execution_count": null,
      "metadata": {
        "deletable": false,
        "editable": false,
        "id": "WCcbpXCZr4Zh",
        "colab": {
          "base_uri": "https://localhost:8080/"
        },
        "outputId": "8c948dff-5225-4357-8f5f-3c00fb1682bb"
      },
      "outputs": [
        {
          "output_type": "stream",
          "name": "stdout",
          "text": [
            "Requirement already satisfied: otter-grader in /usr/local/lib/python3.11/dist-packages (6.0.4)\n",
            "Requirement already satisfied: click<9.0.0,>=8.1.7 in /usr/local/lib/python3.11/dist-packages (from otter-grader) (8.1.8)\n",
            "Requirement already satisfied: dill>=0.3.0 in /usr/local/lib/python3.11/dist-packages (from otter-grader) (0.3.9)\n",
            "Requirement already satisfied: fica>=0.4.1 in /usr/local/lib/python3.11/dist-packages (from otter-grader) (0.4.1)\n",
            "Requirement already satisfied: ipylab<2.0.0,>=1.0.0 in /usr/local/lib/python3.11/dist-packages (from otter-grader) (1.0.0)\n",
            "Requirement already satisfied: ipython in /usr/local/lib/python3.11/dist-packages (from otter-grader) (7.34.0)\n",
            "Requirement already satisfied: ipywidgets<9.0.0,>=8.1.5 in /usr/local/lib/python3.11/dist-packages (from otter-grader) (8.1.5)\n",
            "Requirement already satisfied: jinja2<4.0,>=3.1 in /usr/local/lib/python3.11/dist-packages (from otter-grader) (3.1.5)\n",
            "Requirement already satisfied: jupytext<2.0.0,>=1.16.4 in /usr/local/lib/python3.11/dist-packages (from otter-grader) (1.16.6)\n",
            "Requirement already satisfied: nbconvert>=6.0.0 in /usr/local/lib/python3.11/dist-packages (from nbconvert[webpdf]>=6.0.0; sys_platform != \"emscripten\" and sys_platform != \"wasi\"->otter-grader) (7.16.5)\n",
            "Requirement already satisfied: nbformat>=5.0.0 in /usr/local/lib/python3.11/dist-packages (from otter-grader) (5.10.4)\n",
            "Requirement already satisfied: pandas>=2.0.0 in /usr/local/lib/python3.11/dist-packages (from otter-grader) (2.2.2)\n",
            "Requirement already satisfied: python-on-whales<1.0.0,>=0.72.0 in /usr/local/lib/python3.11/dist-packages (from otter-grader) (0.75.1)\n",
            "Requirement already satisfied: pyyaml<7,>=6 in /usr/local/lib/python3.11/dist-packages (from otter-grader) (6.0.2)\n",
            "Requirement already satisfied: requests<3.0,>=2.31 in /usr/local/lib/python3.11/dist-packages (from otter-grader) (2.32.3)\n",
            "Requirement already satisfied: wrapt<2.0.0,>=1.16.0 in /usr/local/lib/python3.11/dist-packages (from otter-grader) (1.17.0)\n",
            "Requirement already satisfied: docutils in /usr/local/lib/python3.11/dist-packages (from fica>=0.4.1->otter-grader) (0.21.2)\n",
            "Requirement already satisfied: sphinx in /usr/local/lib/python3.11/dist-packages (from fica>=0.4.1->otter-grader) (8.1.3)\n",
            "Requirement already satisfied: comm>=0.1.3 in /usr/local/lib/python3.11/dist-packages (from ipywidgets<9.0.0,>=8.1.5->otter-grader) (0.2.2)\n",
            "Requirement already satisfied: traitlets>=4.3.1 in /usr/local/lib/python3.11/dist-packages (from ipywidgets<9.0.0,>=8.1.5->otter-grader) (5.7.1)\n",
            "Requirement already satisfied: widgetsnbextension~=4.0.12 in /usr/local/lib/python3.11/dist-packages (from ipywidgets<9.0.0,>=8.1.5->otter-grader) (4.0.13)\n",
            "Requirement already satisfied: jupyterlab-widgets~=3.0.12 in /usr/local/lib/python3.11/dist-packages (from ipywidgets<9.0.0,>=8.1.5->otter-grader) (3.0.13)\n",
            "Requirement already satisfied: setuptools>=18.5 in /usr/local/lib/python3.11/dist-packages (from ipython->otter-grader) (75.1.0)\n",
            "Requirement already satisfied: jedi>=0.16 in /usr/local/lib/python3.11/dist-packages (from ipython->otter-grader) (0.19.2)\n",
            "Requirement already satisfied: decorator in /usr/local/lib/python3.11/dist-packages (from ipython->otter-grader) (4.4.2)\n",
            "Requirement already satisfied: pickleshare in /usr/local/lib/python3.11/dist-packages (from ipython->otter-grader) (0.7.5)\n",
            "Requirement already satisfied: prompt-toolkit!=3.0.0,!=3.0.1,<3.1.0,>=2.0.0 in /usr/local/lib/python3.11/dist-packages (from ipython->otter-grader) (3.0.48)\n",
            "Requirement already satisfied: pygments in /usr/local/lib/python3.11/dist-packages (from ipython->otter-grader) (2.18.0)\n",
            "Requirement already satisfied: backcall in /usr/local/lib/python3.11/dist-packages (from ipython->otter-grader) (0.2.0)\n",
            "Requirement already satisfied: matplotlib-inline in /usr/local/lib/python3.11/dist-packages (from ipython->otter-grader) (0.1.7)\n",
            "Requirement already satisfied: pexpect>4.3 in /usr/local/lib/python3.11/dist-packages (from ipython->otter-grader) (4.9.0)\n",
            "Requirement already satisfied: MarkupSafe>=2.0 in /usr/local/lib/python3.11/dist-packages (from jinja2<4.0,>=3.1->otter-grader) (3.0.2)\n",
            "Requirement already satisfied: markdown-it-py>=1.0 in /usr/local/lib/python3.11/dist-packages (from jupytext<2.0.0,>=1.16.4->otter-grader) (3.0.0)\n",
            "Requirement already satisfied: mdit-py-plugins in /usr/local/lib/python3.11/dist-packages (from jupytext<2.0.0,>=1.16.4->otter-grader) (0.4.2)\n",
            "Requirement already satisfied: packaging in /usr/local/lib/python3.11/dist-packages (from jupytext<2.0.0,>=1.16.4->otter-grader) (24.2)\n",
            "Requirement already satisfied: beautifulsoup4 in /usr/local/lib/python3.11/dist-packages (from nbconvert>=6.0.0->nbconvert[webpdf]>=6.0.0; sys_platform != \"emscripten\" and sys_platform != \"wasi\"->otter-grader) (4.12.3)\n",
            "Requirement already satisfied: bleach!=5.0.0 in /usr/local/lib/python3.11/dist-packages (from bleach[css]!=5.0.0->nbconvert>=6.0.0->nbconvert[webpdf]>=6.0.0; sys_platform != \"emscripten\" and sys_platform != \"wasi\"->otter-grader) (6.2.0)\n",
            "Requirement already satisfied: defusedxml in /usr/local/lib/python3.11/dist-packages (from nbconvert>=6.0.0->nbconvert[webpdf]>=6.0.0; sys_platform != \"emscripten\" and sys_platform != \"wasi\"->otter-grader) (0.7.1)\n",
            "Requirement already satisfied: jupyter-core>=4.7 in /usr/local/lib/python3.11/dist-packages (from nbconvert>=6.0.0->nbconvert[webpdf]>=6.0.0; sys_platform != \"emscripten\" and sys_platform != \"wasi\"->otter-grader) (5.7.2)\n",
            "Requirement already satisfied: jupyterlab-pygments in /usr/local/lib/python3.11/dist-packages (from nbconvert>=6.0.0->nbconvert[webpdf]>=6.0.0; sys_platform != \"emscripten\" and sys_platform != \"wasi\"->otter-grader) (0.3.0)\n",
            "Requirement already satisfied: mistune<4,>=2.0.3 in /usr/local/lib/python3.11/dist-packages (from nbconvert>=6.0.0->nbconvert[webpdf]>=6.0.0; sys_platform != \"emscripten\" and sys_platform != \"wasi\"->otter-grader) (3.1.0)\n",
            "Requirement already satisfied: nbclient>=0.5.0 in /usr/local/lib/python3.11/dist-packages (from nbconvert>=6.0.0->nbconvert[webpdf]>=6.0.0; sys_platform != \"emscripten\" and sys_platform != \"wasi\"->otter-grader) (0.10.2)\n",
            "Requirement already satisfied: pandocfilters>=1.4.1 in /usr/local/lib/python3.11/dist-packages (from nbconvert>=6.0.0->nbconvert[webpdf]>=6.0.0; sys_platform != \"emscripten\" and sys_platform != \"wasi\"->otter-grader) (1.5.1)\n",
            "Requirement already satisfied: playwright in /usr/local/lib/python3.11/dist-packages (from nbconvert[webpdf]>=6.0.0; sys_platform != \"emscripten\" and sys_platform != \"wasi\"->otter-grader) (1.49.1)\n",
            "Requirement already satisfied: fastjsonschema>=2.15 in /usr/local/lib/python3.11/dist-packages (from nbformat>=5.0.0->otter-grader) (2.21.1)\n",
            "Requirement already satisfied: jsonschema>=2.6 in /usr/local/lib/python3.11/dist-packages (from nbformat>=5.0.0->otter-grader) (4.23.0)\n",
            "Requirement already satisfied: numpy>=1.23.2 in /usr/local/lib/python3.11/dist-packages (from pandas>=2.0.0->otter-grader) (1.26.4)\n",
            "Requirement already satisfied: python-dateutil>=2.8.2 in /usr/local/lib/python3.11/dist-packages (from pandas>=2.0.0->otter-grader) (2.8.2)\n",
            "Requirement already satisfied: pytz>=2020.1 in /usr/local/lib/python3.11/dist-packages (from pandas>=2.0.0->otter-grader) (2024.2)\n",
            "Requirement already satisfied: tzdata>=2022.7 in /usr/local/lib/python3.11/dist-packages (from pandas>=2.0.0->otter-grader) (2024.2)\n",
            "Requirement already satisfied: pydantic!=2.0.*,<3,>=2 in /usr/local/lib/python3.11/dist-packages (from python-on-whales<1.0.0,>=0.72.0->otter-grader) (2.10.5)\n",
            "Requirement already satisfied: typing-extensions in /usr/local/lib/python3.11/dist-packages (from python-on-whales<1.0.0,>=0.72.0->otter-grader) (4.12.2)\n",
            "Requirement already satisfied: charset-normalizer<4,>=2 in /usr/local/lib/python3.11/dist-packages (from requests<3.0,>=2.31->otter-grader) (3.4.1)\n",
            "Requirement already satisfied: idna<4,>=2.5 in /usr/local/lib/python3.11/dist-packages (from requests<3.0,>=2.31->otter-grader) (3.10)\n",
            "Requirement already satisfied: urllib3<3,>=1.21.1 in /usr/local/lib/python3.11/dist-packages (from requests<3.0,>=2.31->otter-grader) (2.3.0)\n",
            "Requirement already satisfied: certifi>=2017.4.17 in /usr/local/lib/python3.11/dist-packages (from requests<3.0,>=2.31->otter-grader) (2024.12.14)\n",
            "Requirement already satisfied: webencodings in /usr/local/lib/python3.11/dist-packages (from bleach!=5.0.0->bleach[css]!=5.0.0->nbconvert>=6.0.0->nbconvert[webpdf]>=6.0.0; sys_platform != \"emscripten\" and sys_platform != \"wasi\"->otter-grader) (0.5.1)\n",
            "Requirement already satisfied: tinycss2<1.5,>=1.1.0 in /usr/local/lib/python3.11/dist-packages (from bleach[css]!=5.0.0->nbconvert>=6.0.0->nbconvert[webpdf]>=6.0.0; sys_platform != \"emscripten\" and sys_platform != \"wasi\"->otter-grader) (1.4.0)\n",
            "Requirement already satisfied: parso<0.9.0,>=0.8.4 in /usr/local/lib/python3.11/dist-packages (from jedi>=0.16->ipython->otter-grader) (0.8.4)\n",
            "Requirement already satisfied: attrs>=22.2.0 in /usr/local/lib/python3.11/dist-packages (from jsonschema>=2.6->nbformat>=5.0.0->otter-grader) (24.3.0)\n",
            "Requirement already satisfied: jsonschema-specifications>=2023.03.6 in /usr/local/lib/python3.11/dist-packages (from jsonschema>=2.6->nbformat>=5.0.0->otter-grader) (2024.10.1)\n",
            "Requirement already satisfied: referencing>=0.28.4 in /usr/local/lib/python3.11/dist-packages (from jsonschema>=2.6->nbformat>=5.0.0->otter-grader) (0.35.1)\n",
            "Requirement already satisfied: rpds-py>=0.7.1 in /usr/local/lib/python3.11/dist-packages (from jsonschema>=2.6->nbformat>=5.0.0->otter-grader) (0.22.3)\n",
            "Requirement already satisfied: platformdirs>=2.5 in /usr/local/lib/python3.11/dist-packages (from jupyter-core>=4.7->nbconvert>=6.0.0->nbconvert[webpdf]>=6.0.0; sys_platform != \"emscripten\" and sys_platform != \"wasi\"->otter-grader) (4.3.6)\n",
            "Requirement already satisfied: mdurl~=0.1 in /usr/local/lib/python3.11/dist-packages (from markdown-it-py>=1.0->jupytext<2.0.0,>=1.16.4->otter-grader) (0.1.2)\n",
            "Requirement already satisfied: jupyter-client>=6.1.12 in /usr/local/lib/python3.11/dist-packages (from nbclient>=0.5.0->nbconvert>=6.0.0->nbconvert[webpdf]>=6.0.0; sys_platform != \"emscripten\" and sys_platform != \"wasi\"->otter-grader) (6.1.12)\n",
            "Requirement already satisfied: ptyprocess>=0.5 in /usr/local/lib/python3.11/dist-packages (from pexpect>4.3->ipython->otter-grader) (0.7.0)\n",
            "Requirement already satisfied: wcwidth in /usr/local/lib/python3.11/dist-packages (from prompt-toolkit!=3.0.0,!=3.0.1,<3.1.0,>=2.0.0->ipython->otter-grader) (0.2.13)\n",
            "Requirement already satisfied: annotated-types>=0.6.0 in /usr/local/lib/python3.11/dist-packages (from pydantic!=2.0.*,<3,>=2->python-on-whales<1.0.0,>=0.72.0->otter-grader) (0.7.0)\n",
            "Requirement already satisfied: pydantic-core==2.27.2 in /usr/local/lib/python3.11/dist-packages (from pydantic!=2.0.*,<3,>=2->python-on-whales<1.0.0,>=0.72.0->otter-grader) (2.27.2)\n",
            "Requirement already satisfied: six>=1.5 in /usr/local/lib/python3.11/dist-packages (from python-dateutil>=2.8.2->pandas>=2.0.0->otter-grader) (1.17.0)\n",
            "Requirement already satisfied: soupsieve>1.2 in /usr/local/lib/python3.11/dist-packages (from beautifulsoup4->nbconvert>=6.0.0->nbconvert[webpdf]>=6.0.0; sys_platform != \"emscripten\" and sys_platform != \"wasi\"->otter-grader) (2.6)\n",
            "Requirement already satisfied: greenlet==3.1.1 in /usr/local/lib/python3.11/dist-packages (from playwright->nbconvert[webpdf]>=6.0.0; sys_platform != \"emscripten\" and sys_platform != \"wasi\"->otter-grader) (3.1.1)\n",
            "Requirement already satisfied: pyee==12.0.0 in /usr/local/lib/python3.11/dist-packages (from playwright->nbconvert[webpdf]>=6.0.0; sys_platform != \"emscripten\" and sys_platform != \"wasi\"->otter-grader) (12.0.0)\n",
            "Requirement already satisfied: sphinxcontrib-applehelp>=1.0.7 in /usr/local/lib/python3.11/dist-packages (from sphinx->fica>=0.4.1->otter-grader) (2.0.0)\n",
            "Requirement already satisfied: sphinxcontrib-devhelp>=1.0.6 in /usr/local/lib/python3.11/dist-packages (from sphinx->fica>=0.4.1->otter-grader) (2.0.0)\n",
            "Requirement already satisfied: sphinxcontrib-htmlhelp>=2.0.6 in /usr/local/lib/python3.11/dist-packages (from sphinx->fica>=0.4.1->otter-grader) (2.1.0)\n",
            "Requirement already satisfied: sphinxcontrib-jsmath>=1.0.1 in /usr/local/lib/python3.11/dist-packages (from sphinx->fica>=0.4.1->otter-grader) (1.0.1)\n",
            "Requirement already satisfied: sphinxcontrib-qthelp>=1.0.6 in /usr/local/lib/python3.11/dist-packages (from sphinx->fica>=0.4.1->otter-grader) (2.0.0)\n",
            "Requirement already satisfied: sphinxcontrib-serializinghtml>=1.1.9 in /usr/local/lib/python3.11/dist-packages (from sphinx->fica>=0.4.1->otter-grader) (2.0.0)\n",
            "Requirement already satisfied: snowballstemmer>=2.2 in /usr/local/lib/python3.11/dist-packages (from sphinx->fica>=0.4.1->otter-grader) (2.2.0)\n",
            "Requirement already satisfied: babel>=2.13 in /usr/local/lib/python3.11/dist-packages (from sphinx->fica>=0.4.1->otter-grader) (2.16.0)\n",
            "Requirement already satisfied: alabaster>=0.7.14 in /usr/local/lib/python3.11/dist-packages (from sphinx->fica>=0.4.1->otter-grader) (1.0.0)\n",
            "Requirement already satisfied: imagesize>=1.3 in /usr/local/lib/python3.11/dist-packages (from sphinx->fica>=0.4.1->otter-grader) (1.4.1)\n",
            "Requirement already satisfied: pyzmq>=13 in /usr/local/lib/python3.11/dist-packages (from jupyter-client>=6.1.12->nbclient>=0.5.0->nbconvert>=6.0.0->nbconvert[webpdf]>=6.0.0; sys_platform != \"emscripten\" and sys_platform != \"wasi\"->otter-grader) (24.0.1)\n",
            "Requirement already satisfied: tornado>=4.1 in /usr/local/lib/python3.11/dist-packages (from jupyter-client>=6.1.12->nbclient>=0.5.0->nbconvert>=6.0.0->nbconvert[webpdf]>=6.0.0; sys_platform != \"emscripten\" and sys_platform != \"wasi\"->otter-grader) (6.3.3)\n",
            "--2025-01-16 10:40:39--  https://sebschu.com/files/plin0072/tutorials/tutorial1/tests.zip\n",
            "Resolving sebschu.com (sebschu.com)... 185.199.108.153, 185.199.109.153, 185.199.110.153, ...\n",
            "Connecting to sebschu.com (sebschu.com)|185.199.108.153|:443... connected.\n",
            "HTTP request sent, awaiting response... 200 OK\n",
            "Length: 3967 (3.9K) [application/zip]\n",
            "Saving to: ‘tests.zip.2’\n",
            "\n",
            "tests.zip.2         100%[===================>]   3.87K  --.-KB/s    in 0s      \n",
            "\n",
            "2025-01-16 10:40:39 (43.0 MB/s) - ‘tests.zip.2’ saved [3967/3967]\n",
            "\n",
            "Archive:  tests.zip\n",
            "  inflating: tests/q1b.py            \n",
            "  inflating: tests/q1c.py            \n",
            "  inflating: tests/q1a.py            \n",
            "  inflating: tests/q3.py             \n",
            "  inflating: tests/q2.py             \n"
          ]
        }
      ],
      "source": [
        "!pip install otter-grader\n",
        "!wget \"https://sebschu.com/files/plin0072/tutorials/tutorial1/tests.zip\" && unzip -o tests.zip"
      ]
    },
    {
      "cell_type": "code",
      "execution_count": null,
      "metadata": {
        "deletable": false,
        "editable": false,
        "id": "QWnY95z2r4Zj"
      },
      "outputs": [],
      "source": [
        "# Initialize Otter\n",
        "import otter\n",
        "grader = otter.Notebook()"
      ]
    },
    {
      "cell_type": "markdown",
      "metadata": {
        "id": "TMJK-YJ0RGvK"
      },
      "source": [
        "# Tutorial 1: Linear Algebra and Classification\n",
        "\n",
        "In this tutorial, you will practice working with vectors and matrices and you will re-implement the prediction function of a multinomial linear regression classifier such that it uses matrix operations.\n",
        "\n",
        "### Setup\n",
        "\n",
        "Please first make a copy of this notebook into your personal Google Drive. You can do so by clicking on _File_ (top left corner) and choosing \"Save a copy in Drive\". Then, make sure that you run the two cells on top of the notebook before running any of the other cells. Otherwise you will not be able to run the automatic tests.\n"
      ]
    },
    {
      "cell_type": "markdown",
      "metadata": {
        "deletable": false,
        "editable": false,
        "id": "FzElLRGhLOUT"
      },
      "source": [
        "## Working with vectors and matrices\n",
        "\n",
        "### Determining the size of vectors and matrices\n",
        "\n",
        "What is the size of the following vectors and matrices?\n",
        "\n",
        "$$ A = \\left(\\begin{matrix}\n",
        "-7 & 18\\\\\n",
        "5 & 28\\\\\n",
        "-45 & 3\\\\\n",
        "1 & -50\\\\\n",
        "-22 & -20\\\\\n",
        "\\end{matrix}\\right)$$\n",
        "\n",
        "$$B=\\left(\\begin{matrix}\n",
        "49 & -10\\\\\n",
        "-38 & 35\\\\\n",
        "\\end{matrix}\\right)$$\n",
        "\n",
        "$$c=\\left(\\begin{matrix}\n",
        "1\\\\\n",
        "20\\\\\n",
        "-11\\\\\n",
        "3\\\\\n",
        "-7\\\\\n",
        "-37\\\\\n",
        "39\\\\\n",
        "\\end{matrix}\\right)$$\n",
        "\n",
        "$$D=\\left(\\begin{matrix}\n",
        "-17 & -19 & -37\\\\\n",
        "\\end{matrix}\\right)$$\n",
        "\n",
        "$$E=\\left(\\begin{matrix}\n",
        "4 & -17 & -19 & -4 & 21 & -49\\\\\n",
        "23 & -39 & -2 & -26 & -6 & -33\\\\\n",
        "21 & 32 & -27 & -22 & 13 & 41\\\\\n",
        "6 & 18 & -29 & 6 & 9 & 38\\\\\n",
        "\\end{matrix}\\right)$$\n",
        "\n",
        "$$F=\\left(\\begin{matrix}\n",
        "-20 & 6\\\\\n",
        "9 & 39\\\\\n",
        "47 & -41\\\\\n",
        "\\end{matrix}\\right)$$"
      ]
    },
    {
      "cell_type": "markdown",
      "source": [
        "If you want to check your solutions, write your solutions as strings in the following code block. E.g., for a matrix of the form 3x7 write this as \"3x7\".\n"
      ],
      "metadata": {
        "id": "Rti_zU2VtLui"
      }
    },
    {
      "cell_type": "code",
      "execution_count": null,
      "metadata": {
        "id": "a4AvbHS-f97i",
        "tags": []
      },
      "outputs": [],
      "source": [
        "size_A = \"5x2\"\n",
        "size_B = \"2x2\"\n",
        "size_c = \"7x1\"\n",
        "size_D = \"1x3\"\n",
        "size_E = \"4x6\"\n",
        "size_F = \"3x2\""
      ]
    },
    {
      "cell_type": "code",
      "execution_count": null,
      "metadata": {
        "deletable": false,
        "editable": false,
        "id": "_utKQ0hbr4Zm",
        "colab": {
          "base_uri": "https://localhost:8080/",
          "height": 46
        },
        "outputId": "eee174b6-6a66-413f-e577-075ec9f54885"
      },
      "outputs": [
        {
          "output_type": "execute_result",
          "data": {
            "text/plain": [
              "q1a results: All test cases passed!"
            ],
            "text/html": [
              "<p><strong><pre style='display: inline;'>q1a</pre></strong> passed! 🚀</p>"
            ]
          },
          "metadata": {},
          "execution_count": 8
        }
      ],
      "source": [
        "grader.check(\"q1a\")"
      ]
    },
    {
      "cell_type": "markdown",
      "metadata": {
        "deletable": false,
        "editable": false,
        "id": "Vl8XRFUXg8ZH"
      },
      "source": [
        "### Computing dot products\n",
        "\n",
        "Compute the following dot products.\n",
        "\n",
        "$$\n",
        "a=\\left(\\begin{matrix}\n",
        "0\\\\\n",
        "1\\\\\n",
        "-1\\\\\n",
        "\\end{matrix}\\right) \\quad  b=\\left(\\begin{matrix}\n",
        "1\\\\\n",
        "2\\\\\n",
        "-2\\\\\n",
        "\\end{matrix}\\right) \\quad a \\cdot b = ?$$\n",
        "\n",
        "\n",
        "$$c=\\left(\\begin{matrix}\n",
        "2\\\\\n",
        "4\\\\\n",
        "-2\\\\\n",
        "\\end{matrix}\\right)\n",
        "\\quad d=\\left(\\begin{matrix}\n",
        "-5\\\\\n",
        "-4\\\\\n",
        "-1\\\\\n",
        "\\end{matrix}\\right) \\quad c\\cdot d=?$$\n",
        "\n",
        "\n",
        "$$e=\\left(\\begin{matrix}\n",
        "1\\\\\n",
        "1\\\\\n",
        "\\end{matrix}\\right)\\quad f=\\left(\\begin{matrix}\n",
        "-5\\\\\n",
        "3\\\\\n",
        "\\end{matrix}\\right) \\quad e\\cdot f= ?$$"
      ]
    },
    {
      "cell_type": "markdown",
      "source": [
        "If you want to check your solutions, write your solutions as integers in the\n",
        "following code block.\n"
      ],
      "metadata": {
        "id": "_ofn-PbPtR8h"
      }
    },
    {
      "cell_type": "code",
      "execution_count": null,
      "metadata": {
        "id": "Z1dqAUifigVY",
        "tags": []
      },
      "outputs": [],
      "source": [
        "dot_ab = 4\n",
        "\n",
        "dot_cd = -24\n",
        "\n",
        "dot_ef = -2"
      ]
    },
    {
      "cell_type": "code",
      "execution_count": null,
      "metadata": {
        "deletable": false,
        "editable": false,
        "id": "2XHEX-0or4Zo",
        "colab": {
          "base_uri": "https://localhost:8080/",
          "height": 46
        },
        "outputId": "36614e0e-6a93-49e5-ead6-a740611b4371"
      },
      "outputs": [
        {
          "output_type": "execute_result",
          "data": {
            "text/plain": [
              "q1b results: All test cases passed!"
            ],
            "text/html": [
              "<p><strong><pre style='display: inline;'>q1b</pre></strong> passed! 🙌</p>"
            ]
          },
          "metadata": {},
          "execution_count": 35
        }
      ],
      "source": [
        "grader.check(\"q1b\")"
      ]
    },
    {
      "cell_type": "markdown",
      "metadata": {
        "deletable": false,
        "editable": false,
        "id": "P2spUmBGjYvl"
      },
      "source": [
        "### Computing matrix products\n",
        "\n",
        "$$A=\\left(\\begin{matrix}\n",
        "2 & -1\\\\\n",
        "2 & 4\\\\\n",
        "-3 & 3\\\\\n",
        "\\end{matrix}\\right)\\quad B=\\left(\\begin{matrix}\n",
        "-3 & -3 & 2 & -1\\\\\n",
        "-3 & -3 & -3 & 0\\\\\n",
        "\\end{matrix}\\right) \\quad AB=?$$\n",
        "\n",
        "$$C=\\left(\\begin{matrix}\n",
        "-1 & 4\\\\\n",
        "1 & -3\\\\\n",
        "1 & -5\\\\\n",
        "-3 & -1\\\\\n",
        "\\end{matrix}\\right)\\quad D=\\left(\\begin{matrix}\n",
        "4\\\\\n",
        "2\\\\\n",
        "\\end{matrix}\\right) \\quad CD=?$$\n",
        "\n",
        "$$E=\\left(\\begin{matrix}\n",
        "-2 & 4\\\\\n",
        "\\end{matrix}\\right)\\quad F=\\left(\\begin{matrix}\n",
        "1 & -5 & 1\\\\\n",
        "-4 & -1 & -3\\\\\n",
        "\\end{matrix}\\right) \\quad EF=?$$"
      ]
    },
    {
      "cell_type": "markdown",
      "source": [
        "If you want to check your solutions, write your solutions as lists of lists. E.g, the matrix $A$ would be written as:\n",
        "\n",
        "```python\n",
        "A = [[2, -1], [2, 4], [-3, 3]]\n",
        "```"
      ],
      "metadata": {
        "id": "IsqDAF2utaNJ"
      }
    },
    {
      "cell_type": "code",
      "execution_count": null,
      "metadata": {
        "id": "QGhn8LI6jX2j",
        "tags": []
      },
      "outputs": [],
      "source": [
        "matmul_AB = [[-3,-3,7,-2],[-18,-18,-8,-2],[0,0,-15,3]]\n",
        "\n",
        "matmul_CD = [[4],[-2],[-6],[-14]]\n",
        "\n",
        "matmul_EF = [[-18,6,-14]]\n"
      ]
    },
    {
      "cell_type": "code",
      "execution_count": null,
      "metadata": {
        "deletable": false,
        "editable": false,
        "id": "DqRjGpQer4Zp",
        "colab": {
          "base_uri": "https://localhost:8080/",
          "height": 46
        },
        "outputId": "26c491a5-376d-4bfe-e356-9db2bded9362"
      },
      "outputs": [
        {
          "output_type": "execute_result",
          "data": {
            "text/plain": [
              "q1c results: All test cases passed!"
            ],
            "text/html": [
              "<p><strong><pre style='display: inline;'>q1c</pre></strong> passed! 🚀</p>"
            ]
          },
          "metadata": {},
          "execution_count": 25
        }
      ],
      "source": [
        "grader.check(\"q1c\")"
      ]
    },
    {
      "cell_type": "markdown",
      "metadata": {
        "deletable": false,
        "editable": false,
        "id": "7GxTkzValnyd"
      },
      "source": [
        "### Working with matrices and vectors in numpy\n",
        "\n",
        "Consider again the following matrices:\n",
        "\n",
        "$$A=\\left(\\begin{matrix}\n",
        "2 & -1\\\\\n",
        "2 & 4\\\\\n",
        "-3 & 3\\\\\n",
        "\\end{matrix}\\right)\\quad B=\\left(\\begin{matrix}\n",
        "-3 & -3 & 2 & -1\\\\\n",
        "-3 & -3 & -3 & 0\\\\\n",
        "\\end{matrix}\\right) $$\n",
        "\n",
        "$$C=\\left(\\begin{matrix}\n",
        "-1 & 4\\\\\n",
        "1 & -3\\\\\n",
        "1 & -5\\\\\n",
        "-3 & -1\\\\\n",
        "\\end{matrix}\\right)\\quad D=\\left(\\begin{matrix}\n",
        "4\\\\\n",
        "2\\\\\n",
        "\\end{matrix}\\right) $$\n",
        "\n",
        "$$E=\\left(\\begin{matrix}\n",
        "-2 & 4\\\\\n",
        "\\end{matrix}\\right)\\quad F=\\left(\\begin{matrix}\n",
        "1 & -5 & 1\\\\\n",
        "-4 & -1 & -3\\\\\n",
        "\\end{matrix}\\right)$$"
      ]
    },
    {
      "cell_type": "markdown",
      "metadata": {
        "deletable": false,
        "editable": false,
        "id": "rXOfRr6omJFH"
      },
      "source": [
        "First, define all these matrices as numpy arrays."
      ]
    },
    {
      "cell_type": "code",
      "execution_count": null,
      "metadata": {
        "id": "oFBnAl9LmPxy",
        "tags": []
      },
      "outputs": [],
      "source": [
        "import numpy as np\n",
        "\n",
        "A = np.array([\n",
        "    [2, -1],\n",
        "    [2, 4],\n",
        "    [-3, 3]\n",
        "])\n",
        "\n",
        "B = np.array([\n",
        "    [-3, -3, 2, -1],\n",
        "    [-3, -3, -3, 0]\n",
        "])\n",
        "\n",
        "C = np.array([\n",
        "    [-1, 4],\n",
        "    [1, -3],\n",
        "    [1, -5],\n",
        "    [-3, -1]\n",
        "])\n",
        "\n",
        "D = np.array([\n",
        "    [4],\n",
        "    [2]\n",
        "])\n",
        "\n",
        "E = np.array([\n",
        "    [-2, 4]\n",
        "])\n",
        "\n",
        "F = np.array([\n",
        "    [1, -5, 1],\n",
        "    [-4, -1, -3]\n",
        "])\n"
      ]
    },
    {
      "cell_type": "code",
      "execution_count": null,
      "metadata": {
        "id": "a8lmp4UfnyNs",
        "tags": []
      },
      "outputs": [],
      "source": [
        "size_A = {}\n",
        "size_A[\"rows\"] = A.shape[0]\n",
        "size_A[\"cols\"] = A.shape[1]\n",
        "\n",
        "size_B = {}\n",
        "size_B[\"rows\"] = B.shape[0]\n",
        "size_B[\"cols\"] = B.shape[1]\n",
        "\n",
        "size_C = {}\n",
        "size_C[\"rows\"] = C.shape[0]\n",
        "size_C[\"cols\"] = C.shape[1]\n"
      ]
    },
    {
      "cell_type": "code",
      "execution_count": null,
      "metadata": {
        "id": "jUGl9C5ko670",
        "tags": []
      },
      "outputs": [],
      "source": [
        "# AB\n",
        "AB = np.matmul(A, B)\n",
        "\n",
        "# CD\n",
        "CD = np.matmul(C, D)\n",
        "\n",
        "# EF\n",
        "EF = np.matmul(E, F)\n",
        "\n",
        "# B^TD (B transposed times D)\n",
        "BTD = np.matmul(B.T, D)\n",
        "\n",
        "# the first two rows of C and D\n",
        "# for example, the first three rows of C can be accessed\n",
        "# using the notation C[1:3, :]\n",
        "C12D = np.matmul(C[1:2, :], D)\n"
      ]
    },
    {
      "cell_type": "code",
      "execution_count": null,
      "metadata": {
        "deletable": false,
        "editable": false,
        "id": "1Y5QXyv7r4Zq",
        "colab": {
          "base_uri": "https://localhost:8080/",
          "height": 423
        },
        "outputId": "ca1fe42b-413f-4297-89ed-7774fcd065a1"
      },
      "outputs": [
        {
          "output_type": "execute_result",
          "data": {
            "text/plain": [
              "q2 results:\n",
              "    q2 - 1 result:\n",
              "        ❌ Test case failed\n",
              "        Error at line 45 in test q2:\n",
              "              assert B.tolist() == [[-3, -3, 2, 1], [-3, -3, -3, 0]], test_np_defintions_desc(2, B.tolist(), \"B.tolist()\")\n",
              "        AssertionError: \n",
              "\n",
              "        The last line of the following test program failed.\n",
              "        Make sure that your function returns exactly the same value\n",
              "        as specified in the <b>assert</b> statement.\n",
              "\n",
              "        assert A.tolist() == [[2, -1], [2, 4], [-3, 3]]\n",
              "        <b>assert B.tolist() == [[-3, -3, 2, 1], [-3, -3, -3, 0]]</b>\n",
              "\n",
              "        B.tolist() returned:\n",
              "        [[-3, -3, 2, -1], [-3, -3, -3, 0]]\n",
              "\n",
              "    q2 - 2 result:\n",
              "        ✅ Test case passed\n",
              "\n",
              "    q2 - 3 result:\n",
              "        ✅ Test case passed"
            ],
            "text/html": [
              "<p><strong style='color: red;'><pre style='display: inline;'>q2</pre> results:</strong></p><p><strong><pre style='display: inline;'>q2 - 1</pre> result:</strong></p><pre>    ❌ Test case failed\n",
              "    Error at line 45 in test q2:\n",
              "          assert B.tolist() == [[-3, -3, 2, 1], [-3, -3, -3, 0]], test_np_defintions_desc(2, B.tolist(), \"B.tolist()\")\n",
              "    AssertionError: \n",
              "\n",
              "    The last line of the following test program failed.\n",
              "    Make sure that your function returns exactly the same value\n",
              "    as specified in the <b>assert</b> statement.\n",
              "\n",
              "    assert A.tolist() == [[2, -1], [2, 4], [-3, 3]]\n",
              "    <b>assert B.tolist() == [[-3, -3, 2, 1], [-3, -3, -3, 0]]</b>\n",
              "\n",
              "    B.tolist() returned:\n",
              "    [[-3, -3, 2, -1], [-3, -3, -3, 0]]\n",
              "\n",
              "</pre><p><strong><pre style='display: inline;'>q2 - 2</pre> result:</strong></p><pre>    ✅ Test case passed</pre><p><strong><pre style='display: inline;'>q2 - 3</pre> result:</strong></p><pre>    ✅ Test case passed</pre>"
            ]
          },
          "metadata": {},
          "execution_count": 43
        }
      ],
      "source": [
        "grader.check(\"q2\")"
      ]
    },
    {
      "cell_type": "markdown",
      "metadata": {
        "deletable": false,
        "editable": false,
        "id": "Lq5robv6yg1J"
      },
      "source": [
        "## Multinomial logistic regression with matrix operations\n",
        "\n",
        "Finally, let's implement the prediction function of a multinomial logistic regression classifier using matrix operations.\n",
        "\n",
        "Remember that with a multinomial logistic regression classifier, we generally compute a value $z_i$ for each class and then pick the class that maximises $z_i$ (after passing it through the softmax function). For example, if we have three classes, then we have a different set of weights $w_0^{(i)}, w_1^{(i)}, w_2^{(i)}, ..., w_n^{(i)}$ for each class $i=1,2,3$ and we can compute $z_i$ as follows:\n",
        "\n",
        "$$z_1 = w_0^{(1)} +  w_1^{(1)}x_1 + w_2^{(1)}x_2 + ... + w_n^{(1)}x_n$$\n",
        "$$z_2 = w_0^{(2)} +  w_1^{(2)}x_1 + w_2^{(2)}x_2 + ... + w_n^{(2)}x_n$$\n",
        "$$z_3 = w_0^{(3)} +  w_1^{(3)}x_1 + w_2^{(3)}x_2 + ... + w_n^{(3)}x_n$$\n",
        "\n",
        "Now, importantly, we can also express $z_i$ by computing a dot product between the feature vector $x$ and the weight vector $w^{(i)}$:\n",
        "\n",
        "$$x = \\left(\\begin{matrix}1 \\\\ x_1 \\\\ x_2 \\\\ \\vdots \\\\ x_n \\end{matrix}\n",
        "  \\right) \\quad \\quad w^{(i)}=\\left(\\begin{matrix}w_0^{(i)} \\\\ w_1^{(i)} \\\\ w_2^{(i)} \\\\ \\vdots \\\\ w_n^{(i)} \\end{matrix}\n",
        "  \\right) \\quad \\quad z_i = x\\cdot w^{(i)} $$\n",
        "\n",
        "\n",
        "However, we can do this more efficiently by representing all weights for all classes in a matrix $W$. If again, we assume that we have 3 classes, we can represent the weights in a matrix W of size $n\\times3$ where each column is the set of weights for one class:\n",
        "\n",
        "$$x = \\left(\\begin{matrix}1 \\\\ x_1 \\\\ x_2 \\\\ \\vdots \\\\ x_n \\end{matrix}\n",
        "  \\right) \\quad \\quad w^{(i)}=\\left(\\begin{matrix}w_0^{(1)} & w_0^{(2)} & w_0^{(3)} \\\\ w_1^{(1)} & w_1^{(2)} & w_1^{(3)} \\\\ w_2^{(1)} & w_2^{(2)} & w_2^{(3)} \\\\ \\vdots & \\vdots & \\vdots \\\\ w_n^{(1)} & w_n^{(2)} & w_n^{(3)} \\end{matrix}\n",
        "  \\right) \\quad \\quad Z = x^T W = \\left( \\begin{matrix} z_1 & z_2 & z_3 \\end{matrix} \\right) $$\n",
        "\n",
        "As shown here, we can compute the $z_i$ for each class for an example with features $x$ by performing a matrix multiplication between the transposed vector $x^T$ and the weight matrix $W$. This results in a $1\\times 3$ matrix $Z$ that contains the $z_i$ for each class and we just have to pass these values through the softmax function to obtain a classification.\n",
        "\n",
        "To make this even more efficient if we want to classify multiple examples, we can have the features of all examples in a matrix $X$ where each row corresponds to the features of one example. If we have $n$ features and $m$ examples, this matrix would look as follows ($x_2^{(1)}$ is the second feature of the first example:\n",
        "\n",
        "$$X = \\left(\\begin{matrix}\n",
        "1 & x_1^{(1)} & x_2^{(1)} & \\dots &  x_n^{(1)} \\\\\n",
        "1 & x_1^{(2)} & x_2^{(2)} & \\dots &  x_n^{(2)} \\\\\n",
        "\\vdots & \\vdots & \\vdots & \\ddots & \\vdots \\\\\n",
        "1 & x_1^{(m)} & x_2^{(m)} & \\dots &  x_n^{(m)} \\\\\n",
        "\\end{matrix} \\right)$$\n",
        "\n",
        "Using the weight matrix $W$ from above, we can then compute the $z_i$ for each example all at once by computing the matrix $Z$:\n",
        "\n",
        "$$Z = XW = \\left(\\begin{matrix}\n",
        " z_1^{(1)} & z_2^{(1)} &  z_3^{(1)} \\\\\n",
        " z_1^{(2)} & z_2^{(2)} &   z_3^{(2)} \\\\\n",
        " \\vdots & \\vdots &  \\vdots \\\\\n",
        " z_1^{(m)} & z_2^{(m)} &  z_3^{(m)} \\\\\n",
        "\\end{matrix} \\right)$$\n",
        "\n",
        "In this matrix, we now have all the $z_i$ for a specific example in one row (so the first row corresponds to the $z_i$ for the first example, the second row corresponds to the second example, etc.). So if we represent the features as $X$ and the weights as $W$ then we only have to do one matrix multiplication and then apply the softmax to each row of the resulting matrix Z, which tends to much more efficient than computing all of this for example individually.\n",
        "\n",
        "\n",
        "**Your task**: Implement this prediction procedure for a multinomial logistic regression classifier. The next few cells download the training and test data; tokenize the training data and turn it into a feature matrix; train the classifier; and tokenize the test data and turn it into a feature matrix. These cells are largely taken from the notebook from Lecture 1. You can run all of them to train your classifier. Your job is then to implement the function `matrix_predict` in the last cell below.\n"
      ]
    },
    {
      "cell_type": "code",
      "execution_count": null,
      "metadata": {
        "deletable": false,
        "editable": false,
        "id": "mzJBY5BDQ7yr",
        "colab": {
          "base_uri": "https://localhost:8080/"
        },
        "outputId": "42f629eb-4924-4d0a-8c30-478550ed0610"
      },
      "outputs": [
        {
          "output_type": "stream",
          "name": "stderr",
          "text": [
            "/usr/local/lib/python3.11/dist-packages/huggingface_hub/utils/_auth.py:94: UserWarning: \n",
            "The secret `HF_TOKEN` does not exist in your Colab secrets.\n",
            "To authenticate with the Hugging Face Hub, create a token in your settings tab (https://huggingface.co/settings/tokens), set it as secret in your Google Colab and restart your session.\n",
            "You will be able to reuse this secret in all of your notebooks.\n",
            "Please note that authentication is recommended but still optional to access public models or datasets.\n",
            "  warnings.warn(\n"
          ]
        }
      ],
      "source": [
        "# Download the Yelp review dataset.\n",
        "\n",
        "import pandas as pd\n",
        "\n",
        "splits = {'train': 'yelp_review_full/train-00000-of-00001.parquet', 'test': 'yelp_review_full/test-00000-of-00001.parquet'}\n",
        "train_data = pd.read_parquet(\"hf://datasets/Yelp/yelp_review_full/\" + splits[\"train\"])\n",
        "test_data = pd.read_parquet(\"hf://datasets/Yelp/yelp_review_full/\" + splits[\"test\"])"
      ]
    },
    {
      "cell_type": "code",
      "execution_count": null,
      "metadata": {
        "deletable": false,
        "editable": false,
        "id": "RpHnChE3Tnu7",
        "colab": {
          "base_uri": "https://localhost:8080/"
        },
        "outputId": "7f850230-1bd8-450c-c126-e6eadad66849"
      },
      "outputs": [
        {
          "output_type": "stream",
          "name": "stderr",
          "text": [
            "[nltk_data] Downloading package punkt_tab to /root/nltk_data...\n",
            "[nltk_data]   Package punkt_tab is already up-to-date!\n",
            "50000it [01:11, 702.44it/s]\n"
          ]
        }
      ],
      "source": [
        "# Tokenise the training data and turn this into a bag-of-words feature representation.\n",
        "\n",
        "import nltk\n",
        "# download the tokeniser\n",
        "nltk.download('punkt_tab')\n",
        "\n",
        "# load the tokeniser\n",
        "from nltk.tokenize import word_tokenize\n",
        "\n",
        "import tqdm\n",
        "from collections import Counter\n",
        "\n",
        "\n",
        "labels = []\n",
        "tokens = []\n",
        "# counter is a built-in object that has a few useful properties for\n",
        "# creating counts\n",
        "# see https://docs.python.org/3/library/collections.html#collections.Counter\n",
        "feat_counter = Counter()\n",
        "\n",
        "# tqdm is a tool for displaying the progress of loops\n",
        "for _, ex in tqdm.tqdm(train_data.head(50000).iterrows()):\n",
        "  labels.append(ex[\"label\"])\n",
        "  text = ex[\"text\"].replace(r\"\\n\", \" \")\n",
        "  tokenised_text = {w.lower(): 1 for w in word_tokenize(text)}\n",
        "  tokens.append(tokenised_text)\n",
        "  feat_counter.update(tokenised_text)\n",
        "\n",
        "\n",
        "# To speed up training, we'll only consider the 15,000 most common features,\n",
        "# i.e., the 15,000 most common words in the training data.\n",
        "most_common_features = [k for k, v in feat_counter.most_common(15000)]\n",
        "\n"
      ]
    },
    {
      "cell_type": "code",
      "execution_count": null,
      "metadata": {
        "deletable": false,
        "editable": false,
        "id": "2DQmouJnVNo6"
      },
      "outputs": [],
      "source": [
        "# Turn the data into a sparse feature representation.\n",
        "\n",
        "from sklearn.feature_extraction import DictVectorizer\n",
        "\n",
        "vectorizer = DictVectorizer()\n",
        "\n",
        "vectorizer.fit(tokens)\n",
        "# vectorizer.restrict limits the features to the 15,000 most common features\n",
        "# See https://scikit-learn.org/1.5/modules/generated/sklearn.feature_extraction.DictVectorizer.html#sklearn.feature_extraction.DictVectorizer.restrict\n",
        "# for more info on this method.\n",
        "vectorizer.restrict([vectorizer.vocabulary_[f] for f in most_common_features], indices=True)\n",
        "\n",
        "# transform the tokens into a sparse feature matrix\n",
        "features = vectorizer.transform(tokens)"
      ]
    },
    {
      "cell_type": "code",
      "execution_count": null,
      "metadata": {
        "deletable": false,
        "editable": false,
        "id": "7nZdezPOVSwX",
        "colab": {
          "base_uri": "https://localhost:8080/",
          "height": 80
        },
        "outputId": "24a68872-f052-4a7b-efe6-53c1e4009531"
      },
      "outputs": [
        {
          "output_type": "execute_result",
          "data": {
            "text/plain": [
              "LogisticRegression(max_iter=4000)"
            ],
            "text/html": [
              "<style>#sk-container-id-1 {\n",
              "  /* Definition of color scheme common for light and dark mode */\n",
              "  --sklearn-color-text: #000;\n",
              "  --sklearn-color-text-muted: #666;\n",
              "  --sklearn-color-line: gray;\n",
              "  /* Definition of color scheme for unfitted estimators */\n",
              "  --sklearn-color-unfitted-level-0: #fff5e6;\n",
              "  --sklearn-color-unfitted-level-1: #f6e4d2;\n",
              "  --sklearn-color-unfitted-level-2: #ffe0b3;\n",
              "  --sklearn-color-unfitted-level-3: chocolate;\n",
              "  /* Definition of color scheme for fitted estimators */\n",
              "  --sklearn-color-fitted-level-0: #f0f8ff;\n",
              "  --sklearn-color-fitted-level-1: #d4ebff;\n",
              "  --sklearn-color-fitted-level-2: #b3dbfd;\n",
              "  --sklearn-color-fitted-level-3: cornflowerblue;\n",
              "\n",
              "  /* Specific color for light theme */\n",
              "  --sklearn-color-text-on-default-background: var(--sg-text-color, var(--theme-code-foreground, var(--jp-content-font-color1, black)));\n",
              "  --sklearn-color-background: var(--sg-background-color, var(--theme-background, var(--jp-layout-color0, white)));\n",
              "  --sklearn-color-border-box: var(--sg-text-color, var(--theme-code-foreground, var(--jp-content-font-color1, black)));\n",
              "  --sklearn-color-icon: #696969;\n",
              "\n",
              "  @media (prefers-color-scheme: dark) {\n",
              "    /* Redefinition of color scheme for dark theme */\n",
              "    --sklearn-color-text-on-default-background: var(--sg-text-color, var(--theme-code-foreground, var(--jp-content-font-color1, white)));\n",
              "    --sklearn-color-background: var(--sg-background-color, var(--theme-background, var(--jp-layout-color0, #111)));\n",
              "    --sklearn-color-border-box: var(--sg-text-color, var(--theme-code-foreground, var(--jp-content-font-color1, white)));\n",
              "    --sklearn-color-icon: #878787;\n",
              "  }\n",
              "}\n",
              "\n",
              "#sk-container-id-1 {\n",
              "  color: var(--sklearn-color-text);\n",
              "}\n",
              "\n",
              "#sk-container-id-1 pre {\n",
              "  padding: 0;\n",
              "}\n",
              "\n",
              "#sk-container-id-1 input.sk-hidden--visually {\n",
              "  border: 0;\n",
              "  clip: rect(1px 1px 1px 1px);\n",
              "  clip: rect(1px, 1px, 1px, 1px);\n",
              "  height: 1px;\n",
              "  margin: -1px;\n",
              "  overflow: hidden;\n",
              "  padding: 0;\n",
              "  position: absolute;\n",
              "  width: 1px;\n",
              "}\n",
              "\n",
              "#sk-container-id-1 div.sk-dashed-wrapped {\n",
              "  border: 1px dashed var(--sklearn-color-line);\n",
              "  margin: 0 0.4em 0.5em 0.4em;\n",
              "  box-sizing: border-box;\n",
              "  padding-bottom: 0.4em;\n",
              "  background-color: var(--sklearn-color-background);\n",
              "}\n",
              "\n",
              "#sk-container-id-1 div.sk-container {\n",
              "  /* jupyter's `normalize.less` sets `[hidden] { display: none; }`\n",
              "     but bootstrap.min.css set `[hidden] { display: none !important; }`\n",
              "     so we also need the `!important` here to be able to override the\n",
              "     default hidden behavior on the sphinx rendered scikit-learn.org.\n",
              "     See: https://github.com/scikit-learn/scikit-learn/issues/21755 */\n",
              "  display: inline-block !important;\n",
              "  position: relative;\n",
              "}\n",
              "\n",
              "#sk-container-id-1 div.sk-text-repr-fallback {\n",
              "  display: none;\n",
              "}\n",
              "\n",
              "div.sk-parallel-item,\n",
              "div.sk-serial,\n",
              "div.sk-item {\n",
              "  /* draw centered vertical line to link estimators */\n",
              "  background-image: linear-gradient(var(--sklearn-color-text-on-default-background), var(--sklearn-color-text-on-default-background));\n",
              "  background-size: 2px 100%;\n",
              "  background-repeat: no-repeat;\n",
              "  background-position: center center;\n",
              "}\n",
              "\n",
              "/* Parallel-specific style estimator block */\n",
              "\n",
              "#sk-container-id-1 div.sk-parallel-item::after {\n",
              "  content: \"\";\n",
              "  width: 100%;\n",
              "  border-bottom: 2px solid var(--sklearn-color-text-on-default-background);\n",
              "  flex-grow: 1;\n",
              "}\n",
              "\n",
              "#sk-container-id-1 div.sk-parallel {\n",
              "  display: flex;\n",
              "  align-items: stretch;\n",
              "  justify-content: center;\n",
              "  background-color: var(--sklearn-color-background);\n",
              "  position: relative;\n",
              "}\n",
              "\n",
              "#sk-container-id-1 div.sk-parallel-item {\n",
              "  display: flex;\n",
              "  flex-direction: column;\n",
              "}\n",
              "\n",
              "#sk-container-id-1 div.sk-parallel-item:first-child::after {\n",
              "  align-self: flex-end;\n",
              "  width: 50%;\n",
              "}\n",
              "\n",
              "#sk-container-id-1 div.sk-parallel-item:last-child::after {\n",
              "  align-self: flex-start;\n",
              "  width: 50%;\n",
              "}\n",
              "\n",
              "#sk-container-id-1 div.sk-parallel-item:only-child::after {\n",
              "  width: 0;\n",
              "}\n",
              "\n",
              "/* Serial-specific style estimator block */\n",
              "\n",
              "#sk-container-id-1 div.sk-serial {\n",
              "  display: flex;\n",
              "  flex-direction: column;\n",
              "  align-items: center;\n",
              "  background-color: var(--sklearn-color-background);\n",
              "  padding-right: 1em;\n",
              "  padding-left: 1em;\n",
              "}\n",
              "\n",
              "\n",
              "/* Toggleable style: style used for estimator/Pipeline/ColumnTransformer box that is\n",
              "clickable and can be expanded/collapsed.\n",
              "- Pipeline and ColumnTransformer use this feature and define the default style\n",
              "- Estimators will overwrite some part of the style using the `sk-estimator` class\n",
              "*/\n",
              "\n",
              "/* Pipeline and ColumnTransformer style (default) */\n",
              "\n",
              "#sk-container-id-1 div.sk-toggleable {\n",
              "  /* Default theme specific background. It is overwritten whether we have a\n",
              "  specific estimator or a Pipeline/ColumnTransformer */\n",
              "  background-color: var(--sklearn-color-background);\n",
              "}\n",
              "\n",
              "/* Toggleable label */\n",
              "#sk-container-id-1 label.sk-toggleable__label {\n",
              "  cursor: pointer;\n",
              "  display: flex;\n",
              "  width: 100%;\n",
              "  margin-bottom: 0;\n",
              "  padding: 0.5em;\n",
              "  box-sizing: border-box;\n",
              "  text-align: center;\n",
              "  align-items: start;\n",
              "  justify-content: space-between;\n",
              "  gap: 0.5em;\n",
              "}\n",
              "\n",
              "#sk-container-id-1 label.sk-toggleable__label .caption {\n",
              "  font-size: 0.6rem;\n",
              "  font-weight: lighter;\n",
              "  color: var(--sklearn-color-text-muted);\n",
              "}\n",
              "\n",
              "#sk-container-id-1 label.sk-toggleable__label-arrow:before {\n",
              "  /* Arrow on the left of the label */\n",
              "  content: \"▸\";\n",
              "  float: left;\n",
              "  margin-right: 0.25em;\n",
              "  color: var(--sklearn-color-icon);\n",
              "}\n",
              "\n",
              "#sk-container-id-1 label.sk-toggleable__label-arrow:hover:before {\n",
              "  color: var(--sklearn-color-text);\n",
              "}\n",
              "\n",
              "/* Toggleable content - dropdown */\n",
              "\n",
              "#sk-container-id-1 div.sk-toggleable__content {\n",
              "  max-height: 0;\n",
              "  max-width: 0;\n",
              "  overflow: hidden;\n",
              "  text-align: left;\n",
              "  /* unfitted */\n",
              "  background-color: var(--sklearn-color-unfitted-level-0);\n",
              "}\n",
              "\n",
              "#sk-container-id-1 div.sk-toggleable__content.fitted {\n",
              "  /* fitted */\n",
              "  background-color: var(--sklearn-color-fitted-level-0);\n",
              "}\n",
              "\n",
              "#sk-container-id-1 div.sk-toggleable__content pre {\n",
              "  margin: 0.2em;\n",
              "  border-radius: 0.25em;\n",
              "  color: var(--sklearn-color-text);\n",
              "  /* unfitted */\n",
              "  background-color: var(--sklearn-color-unfitted-level-0);\n",
              "}\n",
              "\n",
              "#sk-container-id-1 div.sk-toggleable__content.fitted pre {\n",
              "  /* unfitted */\n",
              "  background-color: var(--sklearn-color-fitted-level-0);\n",
              "}\n",
              "\n",
              "#sk-container-id-1 input.sk-toggleable__control:checked~div.sk-toggleable__content {\n",
              "  /* Expand drop-down */\n",
              "  max-height: 200px;\n",
              "  max-width: 100%;\n",
              "  overflow: auto;\n",
              "}\n",
              "\n",
              "#sk-container-id-1 input.sk-toggleable__control:checked~label.sk-toggleable__label-arrow:before {\n",
              "  content: \"▾\";\n",
              "}\n",
              "\n",
              "/* Pipeline/ColumnTransformer-specific style */\n",
              "\n",
              "#sk-container-id-1 div.sk-label input.sk-toggleable__control:checked~label.sk-toggleable__label {\n",
              "  color: var(--sklearn-color-text);\n",
              "  background-color: var(--sklearn-color-unfitted-level-2);\n",
              "}\n",
              "\n",
              "#sk-container-id-1 div.sk-label.fitted input.sk-toggleable__control:checked~label.sk-toggleable__label {\n",
              "  background-color: var(--sklearn-color-fitted-level-2);\n",
              "}\n",
              "\n",
              "/* Estimator-specific style */\n",
              "\n",
              "/* Colorize estimator box */\n",
              "#sk-container-id-1 div.sk-estimator input.sk-toggleable__control:checked~label.sk-toggleable__label {\n",
              "  /* unfitted */\n",
              "  background-color: var(--sklearn-color-unfitted-level-2);\n",
              "}\n",
              "\n",
              "#sk-container-id-1 div.sk-estimator.fitted input.sk-toggleable__control:checked~label.sk-toggleable__label {\n",
              "  /* fitted */\n",
              "  background-color: var(--sklearn-color-fitted-level-2);\n",
              "}\n",
              "\n",
              "#sk-container-id-1 div.sk-label label.sk-toggleable__label,\n",
              "#sk-container-id-1 div.sk-label label {\n",
              "  /* The background is the default theme color */\n",
              "  color: var(--sklearn-color-text-on-default-background);\n",
              "}\n",
              "\n",
              "/* On hover, darken the color of the background */\n",
              "#sk-container-id-1 div.sk-label:hover label.sk-toggleable__label {\n",
              "  color: var(--sklearn-color-text);\n",
              "  background-color: var(--sklearn-color-unfitted-level-2);\n",
              "}\n",
              "\n",
              "/* Label box, darken color on hover, fitted */\n",
              "#sk-container-id-1 div.sk-label.fitted:hover label.sk-toggleable__label.fitted {\n",
              "  color: var(--sklearn-color-text);\n",
              "  background-color: var(--sklearn-color-fitted-level-2);\n",
              "}\n",
              "\n",
              "/* Estimator label */\n",
              "\n",
              "#sk-container-id-1 div.sk-label label {\n",
              "  font-family: monospace;\n",
              "  font-weight: bold;\n",
              "  display: inline-block;\n",
              "  line-height: 1.2em;\n",
              "}\n",
              "\n",
              "#sk-container-id-1 div.sk-label-container {\n",
              "  text-align: center;\n",
              "}\n",
              "\n",
              "/* Estimator-specific */\n",
              "#sk-container-id-1 div.sk-estimator {\n",
              "  font-family: monospace;\n",
              "  border: 1px dotted var(--sklearn-color-border-box);\n",
              "  border-radius: 0.25em;\n",
              "  box-sizing: border-box;\n",
              "  margin-bottom: 0.5em;\n",
              "  /* unfitted */\n",
              "  background-color: var(--sklearn-color-unfitted-level-0);\n",
              "}\n",
              "\n",
              "#sk-container-id-1 div.sk-estimator.fitted {\n",
              "  /* fitted */\n",
              "  background-color: var(--sklearn-color-fitted-level-0);\n",
              "}\n",
              "\n",
              "/* on hover */\n",
              "#sk-container-id-1 div.sk-estimator:hover {\n",
              "  /* unfitted */\n",
              "  background-color: var(--sklearn-color-unfitted-level-2);\n",
              "}\n",
              "\n",
              "#sk-container-id-1 div.sk-estimator.fitted:hover {\n",
              "  /* fitted */\n",
              "  background-color: var(--sklearn-color-fitted-level-2);\n",
              "}\n",
              "\n",
              "/* Specification for estimator info (e.g. \"i\" and \"?\") */\n",
              "\n",
              "/* Common style for \"i\" and \"?\" */\n",
              "\n",
              ".sk-estimator-doc-link,\n",
              "a:link.sk-estimator-doc-link,\n",
              "a:visited.sk-estimator-doc-link {\n",
              "  float: right;\n",
              "  font-size: smaller;\n",
              "  line-height: 1em;\n",
              "  font-family: monospace;\n",
              "  background-color: var(--sklearn-color-background);\n",
              "  border-radius: 1em;\n",
              "  height: 1em;\n",
              "  width: 1em;\n",
              "  text-decoration: none !important;\n",
              "  margin-left: 0.5em;\n",
              "  text-align: center;\n",
              "  /* unfitted */\n",
              "  border: var(--sklearn-color-unfitted-level-1) 1pt solid;\n",
              "  color: var(--sklearn-color-unfitted-level-1);\n",
              "}\n",
              "\n",
              ".sk-estimator-doc-link.fitted,\n",
              "a:link.sk-estimator-doc-link.fitted,\n",
              "a:visited.sk-estimator-doc-link.fitted {\n",
              "  /* fitted */\n",
              "  border: var(--sklearn-color-fitted-level-1) 1pt solid;\n",
              "  color: var(--sklearn-color-fitted-level-1);\n",
              "}\n",
              "\n",
              "/* On hover */\n",
              "div.sk-estimator:hover .sk-estimator-doc-link:hover,\n",
              ".sk-estimator-doc-link:hover,\n",
              "div.sk-label-container:hover .sk-estimator-doc-link:hover,\n",
              ".sk-estimator-doc-link:hover {\n",
              "  /* unfitted */\n",
              "  background-color: var(--sklearn-color-unfitted-level-3);\n",
              "  color: var(--sklearn-color-background);\n",
              "  text-decoration: none;\n",
              "}\n",
              "\n",
              "div.sk-estimator.fitted:hover .sk-estimator-doc-link.fitted:hover,\n",
              ".sk-estimator-doc-link.fitted:hover,\n",
              "div.sk-label-container:hover .sk-estimator-doc-link.fitted:hover,\n",
              ".sk-estimator-doc-link.fitted:hover {\n",
              "  /* fitted */\n",
              "  background-color: var(--sklearn-color-fitted-level-3);\n",
              "  color: var(--sklearn-color-background);\n",
              "  text-decoration: none;\n",
              "}\n",
              "\n",
              "/* Span, style for the box shown on hovering the info icon */\n",
              ".sk-estimator-doc-link span {\n",
              "  display: none;\n",
              "  z-index: 9999;\n",
              "  position: relative;\n",
              "  font-weight: normal;\n",
              "  right: .2ex;\n",
              "  padding: .5ex;\n",
              "  margin: .5ex;\n",
              "  width: min-content;\n",
              "  min-width: 20ex;\n",
              "  max-width: 50ex;\n",
              "  color: var(--sklearn-color-text);\n",
              "  box-shadow: 2pt 2pt 4pt #999;\n",
              "  /* unfitted */\n",
              "  background: var(--sklearn-color-unfitted-level-0);\n",
              "  border: .5pt solid var(--sklearn-color-unfitted-level-3);\n",
              "}\n",
              "\n",
              ".sk-estimator-doc-link.fitted span {\n",
              "  /* fitted */\n",
              "  background: var(--sklearn-color-fitted-level-0);\n",
              "  border: var(--sklearn-color-fitted-level-3);\n",
              "}\n",
              "\n",
              ".sk-estimator-doc-link:hover span {\n",
              "  display: block;\n",
              "}\n",
              "\n",
              "/* \"?\"-specific style due to the `<a>` HTML tag */\n",
              "\n",
              "#sk-container-id-1 a.estimator_doc_link {\n",
              "  float: right;\n",
              "  font-size: 1rem;\n",
              "  line-height: 1em;\n",
              "  font-family: monospace;\n",
              "  background-color: var(--sklearn-color-background);\n",
              "  border-radius: 1rem;\n",
              "  height: 1rem;\n",
              "  width: 1rem;\n",
              "  text-decoration: none;\n",
              "  /* unfitted */\n",
              "  color: var(--sklearn-color-unfitted-level-1);\n",
              "  border: var(--sklearn-color-unfitted-level-1) 1pt solid;\n",
              "}\n",
              "\n",
              "#sk-container-id-1 a.estimator_doc_link.fitted {\n",
              "  /* fitted */\n",
              "  border: var(--sklearn-color-fitted-level-1) 1pt solid;\n",
              "  color: var(--sklearn-color-fitted-level-1);\n",
              "}\n",
              "\n",
              "/* On hover */\n",
              "#sk-container-id-1 a.estimator_doc_link:hover {\n",
              "  /* unfitted */\n",
              "  background-color: var(--sklearn-color-unfitted-level-3);\n",
              "  color: var(--sklearn-color-background);\n",
              "  text-decoration: none;\n",
              "}\n",
              "\n",
              "#sk-container-id-1 a.estimator_doc_link.fitted:hover {\n",
              "  /* fitted */\n",
              "  background-color: var(--sklearn-color-fitted-level-3);\n",
              "}\n",
              "</style><div id=\"sk-container-id-1\" class=\"sk-top-container\"><div class=\"sk-text-repr-fallback\"><pre>LogisticRegression(max_iter=4000)</pre><b>In a Jupyter environment, please rerun this cell to show the HTML representation or trust the notebook. <br />On GitHub, the HTML representation is unable to render, please try loading this page with nbviewer.org.</b></div><div class=\"sk-container\" hidden><div class=\"sk-item\"><div class=\"sk-estimator fitted sk-toggleable\"><input class=\"sk-toggleable__control sk-hidden--visually\" id=\"sk-estimator-id-1\" type=\"checkbox\" checked><label for=\"sk-estimator-id-1\" class=\"sk-toggleable__label fitted sk-toggleable__label-arrow\"><div><div>LogisticRegression</div></div><div><a class=\"sk-estimator-doc-link fitted\" rel=\"noreferrer\" target=\"_blank\" href=\"https://scikit-learn.org/1.6/modules/generated/sklearn.linear_model.LogisticRegression.html\">?<span>Documentation for LogisticRegression</span></a><span class=\"sk-estimator-doc-link fitted\">i<span>Fitted</span></span></div></label><div class=\"sk-toggleable__content fitted\"><pre>LogisticRegression(max_iter=4000)</pre></div> </div></div></div></div>"
            ]
          },
          "metadata": {},
          "execution_count": 5
        }
      ],
      "source": [
        "# Train a multinomial logistic regression classifier (also known as a maxent model).\n",
        "\n",
        "\n",
        "from sklearn import linear_model\n",
        "\n",
        "\n",
        "maxent_model = linear_model.LogisticRegression(max_iter=4000)\n",
        "maxent_model.fit(features, labels)"
      ]
    },
    {
      "cell_type": "code",
      "execution_count": null,
      "metadata": {
        "deletable": false,
        "editable": false,
        "id": "fP-WFqapVam-",
        "colab": {
          "base_uri": "https://localhost:8080/"
        },
        "outputId": "18eb4c5c-a1c5-4646-ed5e-98e686671f31"
      },
      "outputs": [
        {
          "output_type": "stream",
          "name": "stderr",
          "text": [
            "5000it [00:07, 709.50it/s]\n"
          ]
        }
      ],
      "source": [
        "# Tokenize the test data and turn it into a sparse feature representation.\n",
        "\n",
        "import tqdm\n",
        "labels_test = []\n",
        "tokens_test = []\n",
        "\n",
        "# tqdm is a tool for displaying the progress of loops\n",
        "for _, ex in tqdm.tqdm(test_data.head(5000).iterrows()):\n",
        "  labels_test.append(ex[\"label\"])\n",
        "  text = ex[\"text\"].replace(r\"\\n\", \" \")\n",
        "  tokenised_text = {w.lower(): 1 for w in word_tokenize(text)}\n",
        "  tokens_test.append(tokenised_text)\n",
        "\n",
        "# We run transform instead of fit_transform in order to keep the mapping\n",
        "# between feature values and vectors the same\n",
        "features_test = vectorizer.transform(tokens_test)\n",
        "\n"
      ]
    },
    {
      "cell_type": "markdown",
      "metadata": {
        "deletable": false,
        "editable": false,
        "id": "U5Vq8trbyQ08"
      },
      "source": [
        "The following function `matrix_predict` takes two arguments: the classifier and the matrix of features.\n",
        "\n",
        "**the weight matrix $W$**\n",
        "\n",
        "We'll first have to extract the weight matrix $W$ from the classifier. We can use two properties for this:\n",
        "* `classifier.coef_`: This returns a matrix (an `np.array` object) with each set of weights for each class as one row. So given that we have 5 classes and 15,000 features, this will be a $5\\times15,000$ matrix.\n",
        "* The matrix above does not contain the intercept weights (the $w_0$s). You can get a $5\\times1$ matrix with these weights from `classifier.intercept_`\n",
        "\n",
        "In order to get the weight matrix that includes the intercept, you'll have to combine these two matrices. Check out the [`np.hstack`](https://numpy.org/doc/stable/reference/generated/numpy.hstack.html) and [`np.vstack`](https://numpy.org/doc/stable/reference/generated/numpy.vstack.html) methods to combine matrices. The matrix also needs to be transposed so that you can combine it with the feature matrix.\n",
        "\n",
        "\n",
        "**the feature matrix $X$**\n",
        "\n",
        "`features` already contains the features in the correct format except that the 1 for the intercept in the first column is missing.\n",
        "\n",
        "We can horizontally stack a $n\\times 1$ matrix with all ones with the feature matrix to add this special first column. You can use the `np.ones(shape)` method for creating the matrix with all ones, where `shape` is a tuple that indicates the shape of the array, in this case `(n, 1)`. You can obtain $n$ by inspecting the shape of `features`.\n",
        "\n",
        "Once you have $X$ and $W$ in the correct format, all you have to do is compute $Z=XW$. The final lines of the function below then apply the softmax to the matrix $Z$ and return the predicted classes.\n",
        "\n",
        "\n",
        "\n",
        "\n",
        "\n",
        "\n",
        "\n"
      ]
    },
    {
      "cell_type": "code",
      "execution_count": null,
      "metadata": {
        "id": "MD77ZDl6Vc4e",
        "tags": [],
        "colab": {
          "base_uri": "https://localhost:8080/"
        },
        "outputId": "89a3f74f-ae8e-4de5-ab0b-7e71bac0dcce"
      },
      "outputs": [
        {
          "output_type": "stream",
          "name": "stdout",
          "text": [
            "w1 shape: (5, 15000)\n",
            "w2 shape: (5,)\n",
            "Combined weights shape: (15001, 5)\n",
            "Shape of features: (5000, 15000)\n",
            "Matrix of ones shape: (5000,)\n",
            "Combined features X matrix shape: (5000, 15001)\n",
            "Final combined Z matrix shape: (5000, 5)\n",
            "Number of predictions: 5000\n"
          ]
        }
      ],
      "source": [
        "import numpy as np\n",
        "\n",
        "from scipy.special import softmax\n",
        "\n",
        "def matrix_predict(classifier, features):\n",
        "\n",
        "  # TODO: compute W, X, and Z as described above.\n",
        "  w1 = classifier.coef_\n",
        "  print(f\"w1 shape: {w1.shape}\")\n",
        "  w2 = classifier.intercept_\n",
        "  print(f\"w2 shape: {w2.shape}\")\n",
        "  W = np.vstack((w1.T, w2))\n",
        "  print(f\"Combined weights shape: {W.shape}\")\n",
        "\n",
        "  print(f\"Shape of features: {features.shape}\")\n",
        "  ones_matrix = np.ones(5000)\n",
        "  print(f\"Matrix of ones shape: {ones_matrix.shape}\")\n",
        "  X = np.column_stack((features, ones_matrix))\n",
        "  print(f\"Combined features X matrix shape: {X.shape}\")\n",
        "\n",
        "  Z = np.matmul(X, W)\n",
        "  print(f\"Final combined Z matrix shape: {Z.shape}\")\n",
        "\n",
        "  # apply the softmax to each example\n",
        "  # the axis=1 argument indicates that we want to compute the softmax\n",
        "  # for each row of the matrix Z (each row corresponding to one example)\n",
        "  class_probs = softmax(Z, axis=1) # shape: n_exs x n_classes\n",
        "\n",
        "\n",
        "  # this returns the column number for which the probability is the greatest\n",
        "  # for each row in class_probs, i.e., for each example\n",
        "  class_indices = np.argmax(class_probs, axis=1) # shape: n_exs x 1\n",
        "\n",
        "\n",
        "  # this returns a list of labels so that we know which column corresponds to\n",
        "  # which label\n",
        "  labels = maxent_model.classes_\n",
        "\n",
        "  # translate the indices to labels\n",
        "  classes = [labels[int(c)] for c in class_indices]\n",
        "\n",
        "\n",
        "  return classes\n",
        "\n",
        "\n",
        "# You can test your matrix_predict function with the model and the features\n",
        "# from above. We'll convert the features to a dense matrix to make it easier\n",
        "# to modify it in matrix_predict.\n",
        "mp = matrix_predict(maxent_model, features_test.todense())\n",
        "\n",
        "# this should be 5000\n",
        "print(\"Number of predictions:\", len(mp))\n",
        "\n"
      ]
    },
    {
      "cell_type": "code",
      "execution_count": null,
      "metadata": {
        "deletable": false,
        "editable": false,
        "id": "ARGGxEr6r4Zr",
        "colab": {
          "base_uri": "https://localhost:8080/",
          "height": 168
        },
        "outputId": "a74faafa-ac44-4793-9ac9-7cabf6279e9f"
      },
      "outputs": [
        {
          "output_type": "stream",
          "name": "stdout",
          "text": [
            "w1 shape: (5, 15000)\n",
            "w2 shape: (5,)\n",
            "Combined weights shape: (15001, 5)\n",
            "Shape of features: (5000, 15000)\n",
            "Matrix of ones shape: (5000,)\n",
            "Combined features X matrix shape: (5000, 15001)\n",
            "Final combined Z matrix shape: (5000, 5)\n"
          ]
        },
        {
          "output_type": "execute_result",
          "data": {
            "text/plain": [
              "q3 results: All test cases passed!"
            ],
            "text/html": [
              "<p><strong><pre style='display: inline;'>q3</pre></strong> passed! 🌈</p>"
            ]
          },
          "metadata": {},
          "execution_count": 16
        }
      ],
      "source": [
        "grader.check(\"q3\")"
      ]
    }
  ],
  "metadata": {
    "colab": {
      "provenance": [],
      "include_colab_link": true
    },
    "kernelspec": {
      "display_name": "Python 3",
      "name": "python3"
    },
    "language_info": {
      "name": "python"
    },
    "otter": {
      "assignment_name": "tutorial1"
    }
  },
  "nbformat": 4,
  "nbformat_minor": 0
}